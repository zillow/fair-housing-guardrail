{
 "cells": [
  {
   "cell_type": "code",
   "execution_count": null,
   "id": "df3f896a-2492-4191-8de3-a46c9c78cf96",
   "metadata": {},
   "outputs": [],
   "source": [
    "# Add fair_housing_guardrail package to system path\n",
    "import os\n",
    "import sys\n",
    "\n",
    "dir_path = os.path.dirname(os.path.realpath(\"./\")) + \"/fair_housing_guardrail\"\n",
    "\n",
    "if dir_path not in sys.path:\n",
    "    sys.path.insert(1, dir_path)"
   ]
  },
  {
   "cell_type": "code",
   "execution_count": null,
   "id": "98e72afc-d797-40e9-965b-1334c8c66e4e",
   "metadata": {},
   "outputs": [],
   "source": [
    "import pandas as pd\n",
    "\n",
    "from utils.helper import load_config, load_dataset, load_tokenizer\n",
    "from utils.fair_housing_classification import FairHousingGuardrailClassification"
   ]
  },
  {
   "cell_type": "code",
   "execution_count": null,
   "id": "b71487b3-0f04-4c3d-9d79-baeb4743e306",
   "metadata": {},
   "outputs": [],
   "source": [
    "CONFIG_FILE_PATH = \"configs/test-config.yaml\"\n",
    "config = load_config(CONFIG_FILE_PATH)\n",
    "tokenizer = load_tokenizer()\n",
    "_, test_dataset = load_dataset(config, tokenizer)"
   ]
  },
  {
   "cell_type": "code",
   "execution_count": null,
   "id": "f8d171e0-4dea-4afa-8fa4-94980b23a010",
   "metadata": {},
   "outputs": [],
   "source": [
    "fh_classifier = FairHousingGuardrailClassification(config, tokenizer, None, test_dataset)\n",
    "predictions = fh_classifier.predict()"
   ]
  },
  {
   "cell_type": "code",
   "execution_count": null,
   "id": "dadf1133-d935-43e6-8ff9-0c4cbdb99dbe",
   "metadata": {},
   "outputs": [],
   "source": [
    "predictions"
   ]
  }
 ],
 "metadata": {
  "kernelspec": {
   "display_name": "Python 3 (ipykernel)",
   "language": "python",
   "name": "python3"
  },
  "language_info": {
   "codemirror_mode": {
    "name": "ipython",
    "version": 3
   },
   "file_extension": ".py",
   "mimetype": "text/x-python",
   "name": "python",
   "nbconvert_exporter": "python",
   "pygments_lexer": "ipython3",
   "version": "3.9.13"
  }
 },
 "nbformat": 4,
 "nbformat_minor": 5
}
