{
 "cells": [
  {
   "cell_type": "code",
   "execution_count": null,
   "id": "c6d1c643-ae34-4dd0-87db-d13522df780d",
   "metadata": {},
   "outputs": [],
   "source": [
    "# Add fairhousingguardrail package to system path\n",
    "\n",
    "import os\n",
    "import sys\n",
    "\n",
    "dir_path = os.path.dirname(os.path.realpath(\"./\")) + \"/fair_housing_guardrail\"\n",
    "\n",
    "if dir_path not in sys.path:\n",
    "    sys.path.insert(1, dir_path)"
   ]
  },
  {
   "cell_type": "code",
   "execution_count": null,
   "id": "10018ffa-eaea-42d2-b7ff-9255916b21b5",
   "metadata": {},
   "outputs": [],
   "source": [
    "import matplotlib.pyplot as plt\n",
    "import pandas as pd\n",
    "import plotly.graph_objects as go\n",
    "\n",
    "from data.json_dataset import JsonDataset\n",
    "from utils.helper import load_config, load_dataset, load_tokenizer\n",
    "from utils.fair_housing_classification import FairHousingGuardrailClassification"
   ]
  },
  {
   "cell_type": "code",
   "execution_count": null,
   "id": "2c2fbd5a-eabf-41ac-a555-7de88c515830",
   "metadata": {},
   "outputs": [],
   "source": [
    "CONFIG_FILE_PATH = \"configs/train-config.yaml\"\n",
    "config = load_config(CONFIG_FILE_PATH)\n",
    "tokenizer = load_tokenizer()\n",
    "train_dataset, test_dataset = load_dataset(config, tokenizer)"
   ]
  },
  {
   "cell_type": "code",
   "execution_count": null,
   "id": "ae3ca773-d14d-464a-8532-aae8a8dfcb2c",
   "metadata": {},
   "outputs": [],
   "source": [
    "fh_classifier = FairHousingGuardrailClassification(config, tokenizer, train_dataset, test_dataset)\n",
    "train_loss, eval_loss = fh_classifier.train()\n",
    "\n",
    "print(\"Train Loss\")\n",
    "print(train_loss)\n",
    "\n",
    "print(\"Validation Loss\")\n",
    "print(eval_loss)\n",
    "\n",
    "# Plot loss\n",
    "_train_loss, steps = zip(*train_loss)\n",
    "_eval_loss, steps = zip(*eval_loss)\n",
    "\n",
    "fig = go.Figure()\n",
    "fig.add_trace(go.Scatter(x=steps, y=_train_loss, mode=\"lines+markers\", name=\"Training Loss\"))\n",
    "fig.add_trace(go.Scatter(x=steps, y=_eval_loss, mode=\"lines+markers\", name=\"Validation Loss\"))\n",
    "\n",
    "fig.update_layout(title=\"Loss\", xaxis_title=\"Training Steps\", yaxis_title=\"Loss\")\n",
    "fig.show()\n",
    "\n",
    "# Save model and tokenizer\n",
    "fh_classifier.trainer.save_model()\n",
    "\n",
    "fh_classifier.model.save_pretrained(config[\"output_data\"][\"model_output_dir\"])\n",
    "fh_classifier.tokenizer.save_pretrained(config[\"output_data\"][\"tokenizer_output_dir\"])"
   ]
  }
 ],
 "metadata": {
  "kernelspec": {
   "display_name": "myenv1",
   "language": "python",
   "name": "myenv1"
  },
  "language_info": {
   "codemirror_mode": {
    "name": "ipython",
    "version": 3
   },
   "file_extension": ".py",
   "mimetype": "text/x-python",
   "name": "python",
   "nbconvert_exporter": "python",
   "pygments_lexer": "ipython3",
   "version": "3.9.13"
  }
 },
 "nbformat": 4,
 "nbformat_minor": 5
}
